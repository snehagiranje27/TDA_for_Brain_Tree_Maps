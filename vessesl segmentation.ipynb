{
 "cells": [
  {
   "cell_type": "code",
   "execution_count": null,
   "metadata": {
    "colab": {
     "base_uri": "https://localhost:8080/"
    },
    "id": "J1Doits7btNk",
    "outputId": "6e307e93-d78f-408f-cf62-dcd4b1920007"
   },
   "outputs": [
    {
     "name": "stdout",
     "output_type": "stream",
     "text": [
      "Looking in indexes: https://pypi.org/simple, https://us-python.pkg.dev/colab-wheels/public/simple/\n",
      "Collecting SimpleITK\n",
      "  Downloading SimpleITK-2.2.1-cp39-cp39-manylinux_2_17_x86_64.manylinux2014_x86_64.whl (52.7 MB)\n",
      "\u001b[2K     \u001b[90m━━━━━━━━━━━━━━━━━━━━━━━━━━━━━━━━━━━━━━━━\u001b[0m \u001b[32m52.7/52.7 MB\u001b[0m \u001b[31m14.2 MB/s\u001b[0m eta \u001b[36m0:00:00\u001b[0m\n",
      "\u001b[?25hInstalling collected packages: SimpleITK\n",
      "Successfully installed SimpleITK-2.2.1\n"
     ]
    }
   ],
   "source": [
    "pip install SimpleITK"
   ]
  },
  {
   "cell_type": "code",
   "execution_count": null,
   "metadata": {
    "colab": {
     "base_uri": "https://localhost:8080/"
    },
    "id": "k6DlIRUkbtTx",
    "outputId": "60b93fef-3f4f-46bb-b441-6eeea154f156"
   },
   "outputs": [
    {
     "name": "stdout",
     "output_type": "stream",
     "text": [
      "Looking in indexes: https://pypi.org/simple, https://us-python.pkg.dev/colab-wheels/public/simple/\n",
      "Collecting itk-tubetk\n",
      "  Downloading itk_tubetk-1.3.5-cp39-cp39-manylinux_2_28_x86_64.whl (22.9 MB)\n",
      "\u001b[2K     \u001b[90m━━━━━━━━━━━━━━━━━━━━━━━━━━━━━━━━━━━━━━━━\u001b[0m \u001b[32m22.9/22.9 MB\u001b[0m \u001b[31m21.2 MB/s\u001b[0m eta \u001b[36m0:00:00\u001b[0m\n",
      "\u001b[?25hCollecting itk-minimalpathextraction>=1.2.6\n",
      "  Downloading itk_minimalpathextraction-1.2.6-cp39-cp39-manylinux_2_28_x86_64.whl (2.1 MB)\n",
      "\u001b[2K     \u001b[90m━━━━━━━━━━━━━━━━━━━━━━━━━━━━━━━━━━━━━━━━\u001b[0m \u001b[32m2.1/2.1 MB\u001b[0m \u001b[31m72.3 MB/s\u001b[0m eta \u001b[36m0:00:00\u001b[0m\n",
      "\u001b[?25hCollecting itk>=5.3.0\n",
      "  Downloading itk-5.3.0-cp39-cp39-manylinux_2_28_x86_64.whl (8.3 kB)\n",
      "Requirement already satisfied: numpy in /usr/local/lib/python3.9/dist-packages (from itk-tubetk) (1.22.4)\n",
      "Collecting itk-io==5.3.0\n",
      "  Downloading itk_io-5.3.0-cp39-cp39-manylinux_2_28_x86_64.whl (25.6 MB)\n",
      "\u001b[2K     \u001b[90m━━━━━━━━━━━━━━━━━━━━━━━━━━━━━━━━━━━━━━━━\u001b[0m \u001b[32m25.6/25.6 MB\u001b[0m \u001b[31m40.5 MB/s\u001b[0m eta \u001b[36m0:00:00\u001b[0m\n",
      "\u001b[?25hCollecting itk-filtering==5.3.0\n",
      "  Downloading itk_filtering-5.3.0-cp39-cp39-manylinux_2_28_x86_64.whl (73.5 MB)\n",
      "\u001b[2K     \u001b[90m━━━━━━━━━━━━━━━━━━━━━━━━━━━━━━━━━━━━━━━━\u001b[0m \u001b[32m73.5/73.5 MB\u001b[0m \u001b[31m9.0 MB/s\u001b[0m eta \u001b[36m0:00:00\u001b[0m\n",
      "\u001b[?25hCollecting itk-numerics==5.3.0\n",
      "  Downloading itk_numerics-5.3.0-cp39-cp39-manylinux_2_28_x86_64.whl (58.8 MB)\n",
      "\u001b[2K     \u001b[90m━━━━━━━━━━━━━━━━━━━━━━━━━━━━━━━━━━━━━━━━\u001b[0m \u001b[32m58.8/58.8 MB\u001b[0m \u001b[31m7.1 MB/s\u001b[0m eta \u001b[36m0:00:00\u001b[0m\n",
      "\u001b[?25hCollecting itk-registration==5.3.0\n",
      "  Downloading itk_registration-5.3.0-cp39-cp39-manylinux_2_28_x86_64.whl (26.6 MB)\n",
      "\u001b[2K     \u001b[90m━━━━━━━━━━━━━━━━━━━━━━━━━━━━━━━━━━━━━━━━\u001b[0m \u001b[32m26.6/26.6 MB\u001b[0m \u001b[31m44.7 MB/s\u001b[0m eta \u001b[36m0:00:00\u001b[0m\n",
      "\u001b[?25hCollecting itk-core==5.3.0\n",
      "  Downloading itk_core-5.3.0-cp39-cp39-manylinux_2_28_x86_64.whl (81.2 MB)\n",
      "\u001b[2K     \u001b[90m━━━━━━━━━━━━━━━━━━━━━━━━━━━━━━━━━━━━━━━━\u001b[0m \u001b[32m81.2/81.2 MB\u001b[0m \u001b[31m8.8 MB/s\u001b[0m eta \u001b[36m0:00:00\u001b[0m\n",
      "\u001b[?25hCollecting itk-segmentation==5.3.0\n",
      "  Downloading itk_segmentation-5.3.0-cp39-cp39-manylinux_2_28_x86_64.whl (16.5 MB)\n",
      "\u001b[2K     \u001b[90m━━━━━━━━━━━━━━━━━━━━━━━━━━━━━━━━━━━━━━━━\u001b[0m \u001b[32m16.5/16.5 MB\u001b[0m \u001b[31m63.8 MB/s\u001b[0m eta \u001b[36m0:00:00\u001b[0m\n",
      "\u001b[?25hInstalling collected packages: itk-core, itk-numerics, itk-io, itk-filtering, itk-segmentation, itk-registration, itk, itk-minimalpathextraction, itk-tubetk\n",
      "Successfully installed itk-5.3.0 itk-core-5.3.0 itk-filtering-5.3.0 itk-io-5.3.0 itk-minimalpathextraction-1.2.6 itk-numerics-5.3.0 itk-registration-5.3.0 itk-segmentation-5.3.0 itk-tubetk-1.3.5\n"
     ]
    }
   ],
   "source": [
    " !pip install itk-tubetk"
   ]
  },
  {
   "cell_type": "code",
   "execution_count": 1,
   "metadata": {
    "id": "NrqeaoJKb51i"
   },
   "outputs": [],
   "source": [
    "import numpy as np\n",
    "import SimpleITK as sitk\n",
    "import sys\n",
    "import itk\n",
    "from itk import TubeTK as ttk\n",
    "\n"
   ]
  },
  {
   "cell_type": "code",
   "execution_count": 51,
   "metadata": {},
   "outputs": [],
   "source": [
    "import pandas as pd\n",
    "import numpy as np\n",
    "from matplotlib import pyplot\n",
    "from mpl_toolkits.mplot3d import Axes3D\n",
    "import seaborn as sns\n",
    "import matplotlib.pyplot as plt"
   ]
  },
  {
   "cell_type": "markdown",
   "metadata": {
    "id": "qptc4Y2ceeuV"
   },
   "source": [
    "\n",
    "Segment brain from MRA"
   ]
  },
  {
   "cell_type": "code",
   "execution_count": 9,
   "metadata": {
    "id": "t-_rrrnmbtWA"
   },
   "outputs": [],
   "source": [
    "mra = '...\\sub-013_ses-20111130_desc-angio_N4bfc_mask.nii.gz'\n",
    "mri_T1='...\\sub-013_ses-20111130_T1w.nii.gz'\n",
    "flash='...\\sub-013_ses-20111130_angio.nii.gz'\n",
    "flash_Brain='...\\sub-013_ses-20111130_desc-angio_N4bfc_brain_mask.nii.gz'\n",
    "# Specify the path to the output MetaImage file\n",
    "mha_mra = '...\\sub_013\\\\sub-130_mra.mha'\n",
    "mha_mri_T1 ='...\\sub-013_mri_T1.mha'\n",
    "mha_flash='...\\sub-013_flash.mha'\n",
    "mha_flash_Brain='...\\sub-013_flash-Brain.mha'\n",
    "\n",
    "\n",
    "# Read the input NIfTI file\n",
    "image_mra= sitk.ReadImage(mra)\n",
    "image_mri_T1=sitk.ReadImage(mri_T1)\n",
    "image_flash=sitk.ReadImage(flash)\n",
    "image_flash_Brain=sitk.ReadImage(flash_Brain)\n",
    "\n",
    "# Write the output MHA file\n",
    "sitk.WriteImage(image_mra, mha_mra)\n",
    "sitk.WriteImage(image_mri_T1,mha_mri_T1)\n",
    "sitk.WriteImage(image_flash,mha_flash)\n",
    "sitk.WriteImage(image_flash_Brain,mha_flash_Brain)"
   ]
  },
  {
   "cell_type": "code",
   "execution_count": 10,
   "metadata": {
    "id": "uqaNROJCbtZX"
   },
   "outputs": [],
   "source": [
    "ImageType = itk.Image[itk.F, 3]\n",
    "ReaderType = itk.ImageFileReader[ImageType]\n",
    "\n",
    "reader1 = ReaderType.New(FileName=mha_mra)\n",
    "reader1.Update()\n",
    "im1 = reader1.GetOutput()\n",
    "\n",
    "reader2 = ReaderType.New(FileName=mri_T1)\n",
    "reader2.Update()\n",
    "im2 = reader2.GetOutput()"
   ]
  },
  {
   "cell_type": "code",
   "execution_count": 11,
   "metadata": {
    "id": "Snsuy-CBbtcN"
   },
   "outputs": [],
   "source": [
    "res = ttk.ResampleImage.New(Input = im1) \n",
    "res.SetMakeHighResIso(True)\n",
    "res.Update()\n",
    "im1iso = res.GetOutput()\n"
   ]
  },
  {
   "cell_type": "code",
   "execution_count": 12,
   "metadata": {
    "id": "vFsawz7Obtg3"
   },
   "outputs": [],
   "source": [
    "imReg = ttk.RegisterImages[ImageType].New() \n",
    "imReg.SetFixedImage(im1iso)\n",
    "imReg.SetMovingImage(im2)\n",
    "imReg.SetReportProgress(True)\n",
    "imReg.SetExpectedOffsetMagnitude(40)\n",
    "imReg.SetExpectedRotationMagnitude(0.01)\n",
    "imReg.SetExpectedScaleMagnitude(0.01)\n",
    "imReg.SetRigidMaxIterations(500)\n",
    "imReg.SetRigidSamplingRatio(0.1)\n",
    "imReg.SetRegistration(\"RIGID\")\n",
    "imReg.SetMetric(\"MATTES_MI_METRIC\")"
   ]
  },
  {
   "cell_type": "code",
   "execution_count": 13,
   "metadata": {
    "id": "nOpi-pyRbtiU"
   },
   "outputs": [],
   "source": [
    "imReg.Update()"
   ]
  },
  {
   "cell_type": "code",
   "execution_count": 14,
   "metadata": {
    "id": "WEDasmzMbtlK"
   },
   "outputs": [],
   "source": [
    "im2iso = imReg.GetFinalMovingImage()"
   ]
  },
  {
   "cell_type": "code",
   "execution_count": 15,
   "metadata": {
    "id": "sdmhaDmackrX"
   },
   "outputs": [],
   "source": [
    "patient_flash = \"...\\sub-013_flash.mha\"\n",
    "patient_flash_brain = \"...\\sub-013_flash-Brain.mha\"\n",
    "reader = ReaderType.New(FileName=patient_flash)\n",
    "reader.Update()\n",
    "imBase = reader.GetOutput()\n",
    "reader = ReaderType.New(FileName=patient_flash_brain)\n",
    "reader.Update()\n",
    "imBaseB = reader.GetOutput()"
   ]
  },
  {
   "cell_type": "code",
   "execution_count": 16,
   "metadata": {
    "id": "WiQ9FLwvbtt0"
   },
   "outputs": [],
   "source": [
    "imMath = ttk.ImageMath.New(Input=im2iso)\n",
    "imMath.Blur(2)\n",
    "im2isoBlur = imMath.GetOutput()"
   ]
  },
  {
   "cell_type": "code",
   "execution_count": 17,
   "metadata": {
    "id": "l4qlNSvMdiql"
   },
   "outputs": [],
   "source": [
    "regB = []\n",
    "regBB = []"
   ]
  },
  {
   "cell_type": "code",
   "execution_count": 18,
   "metadata": {
    "id": "1Q4O7eZvdLEr"
   },
   "outputs": [],
   "source": [
    "imMath.SetInput(imBase)\n",
    "imMath.Blur(2)\n",
    "imBaseBlur = imMath.GetOutput()\n",
    "regBTo1 = ttk.RegisterImages[ImageType].New(FixedImage=im2isoBlur, MovingImage=imBaseBlur)\n",
    "regBTo1.SetReportProgress(True)\n",
    "regBTo1.SetExpectedOffsetMagnitude(40)\n",
    "regBTo1.SetExpectedRotationMagnitude(0.01)\n",
    "regBTo1.SetExpectedScaleMagnitude(0.1)\n",
    "regBTo1.SetRigidMaxIterations(500)\n",
    "regBTo1.SetAffineMaxIterations(500)\n",
    "regBTo1.SetRigidSamplingRatio(0.05)\n",
    "regBTo1.SetAffineSamplingRatio(0.05)\n",
    "regBTo1.SetInitialMethodEnum(\"INIT_WITH_IMAGE_CENTERS\")\n",
    "regBTo1.SetRegistration(\"PIPELINE_AFFINE\")\n",
    "regBTo1.SetMetric(\"MATTES_MI_METRIC\")\n",
    "regBTo1.Update()\n",
    "img = regBTo1.ResampleImage(\"LINEAR\", imBase)\n",
    "regB.append( img )\n",
    "img = regBTo1.ResampleImage(\"LINEAR\", imBaseB)\n",
    "regBB.append( img )"
   ]
  },
  {
   "cell_type": "code",
   "execution_count": 19,
   "metadata": {
    "colab": {
     "base_uri": "https://localhost:8080/"
    },
    "id": "yyUrpdrldLIi",
    "outputId": "fdc506d5-f1a1-4be0-8a98-30f02dd0bf9f"
   },
   "outputs": [
    {
     "name": "stdout",
     "output_type": "stream",
     "text": [
      "Type of regBB[i]: <class 'itk.itkImagePython.itkImageF3'>\n",
      "Type of img: <class 'itk.itkImagePython.itkImageF3'>\n"
     ]
    }
   ],
   "source": [
    "N=1\n",
    "regBBT = []\n",
    "for i in range(0,N):\n",
    "    print(\"Type of regBB[i]:\", type(regBB[i]))\n",
    "    imMath = ttk.ImageMath[itk.Image[itk.F,3]].New(Input=regBB[i])\n",
    "    imMath.Threshold(0,1,0,1)\n",
    "    img = imMath.GetOutput()\n",
    "    if i==0:\n",
    "        print(\"Type of img:\", type(img))\n",
    "        imMathSum = ttk.ImageMath[itk.Image[itk.F,3]].New( img )\n",
    "        imMathSum.AddImages( img, 1.0/N, 0 )\n",
    "        sumBBT = imMathSum.GetOutput()\n",
    "    else:\n",
    "        print(\"Type of img:\", type(sumBBT))\n",
    "        imMathSum = ttk.ImageMath[itk.Image[itk.F,3]].New( sumBBT )\n",
    "        imMathSum.AddImages( img, 1, 1.0/N )\n",
    "        sumBBT = imMathSum.GetOutput()\n",
    "        "
   ]
  },
  {
   "cell_type": "code",
   "execution_count": 20,
   "metadata": {
    "colab": {
     "base_uri": "https://localhost:8080/",
     "height": 235
    },
    "id": "QrWuZw66dLL-",
    "outputId": "d473c4ac-e4cd-468f-c7ad-e65a47abe1d4"
   },
   "outputs": [],
   "source": [
    "insideMath = ttk.ImageMath[itk.Image[itk.F,3]].New( Input = sumBBT )\n",
    "insideMath.Threshold(1,1,1,0)\n",
    "insideMath.Erode(5,1,0)\n",
    "brainInside = insideMath.GetOutput()\n",
    "\n",
    "outsideMath = ttk.ImageMath[itk.Image[itk.F,3]].New( Input = sumBBT )\n",
    "outsideMath.Threshold(0,0,1,0)\n",
    "outsideMath.Erode(10,1,0)\n",
    "brainOutsideAll = outsideMath.GetOutput()\n",
    "outsideMath.Erode(20,1,0)\n",
    "outsideMath.AddImages(brainOutsideAll, -1, 1)\n",
    "brainOutside = outsideMath.GetOutput()\n",
    "\n",
    "outsideMath.AddImages(brainInside,1,2)\n",
    "brainCombinedMask = outsideMath.GetOutputUChar()\n",
    "\n",
    "outsideMath.AddImages(im2iso, 512, 1)\n",
    "brainCombinedMaskView = outsideMath.GetOutput()"
   ]
  },
  {
   "cell_type": "code",
   "execution_count": 21,
   "metadata": {
    "id": "_OFPIds5dLPL"
   },
   "outputs": [],
   "source": [
    "LabelMapType = itk.Image[itk.UC,3]\n",
    "\n",
    "segmenter = ttk.SegmentConnectedComponentsUsingParzenPDFs[ImageType,LabelMapType].New()\n",
    "segmenter.SetFeatureImage( im1iso )\n",
    "segmenter.AddFeatureImage( im2iso )\n",
    "#segmenter.AddFeatureImage( im3iso )\n",
    "segmenter.SetInputLabelMap( brainCombinedMask )\n",
    "segmenter.SetObjectId( 2 )\n",
    "segmenter.AddObjectId( 1 )\n",
    "segmenter.SetVoidId( 0 )\n",
    "segmenter.SetErodeDilateRadius( 5 )\n",
    "segmenter.Update()\n",
    "segmenter.ClassifyImages()\n",
    "brainCombinedMaskClassified = segmenter.GetOutputLabelMap()"
   ]
  },
  {
   "cell_type": "code",
   "execution_count": 22,
   "metadata": {
    "id": "foH__jZydtvu"
   },
   "outputs": [],
   "source": [
    "cast = itk.CastImageFilter[LabelMapType, ImageType].New()\n",
    "cast.SetInput(brainCombinedMaskClassified)\n",
    "cast.Update()\n",
    "brainMaskF = cast.GetOutput()\n",
    "\n",
    "brainMath = ttk.ImageMath[ImageType].New(Input = brainMaskF)\n",
    "brainMath.Threshold(2,2,1,0)\n",
    "brainMath.Dilate(2,1,0)\n",
    "brainMaskD = brainMath.GetOutput()\n",
    "brainMath.SetInput( im1 )\n",
    "brainMath.ReplaceValuesOutsideMaskRange( brainMaskD, 1, 1, 0)\n",
    "brain = brainMath.GetOutput()\n"
   ]
  },
  {
   "cell_type": "code",
   "execution_count": 23,
   "metadata": {
    "id": "sUJhBMf4dt0I"
   },
   "outputs": [],
   "source": [
    "itk.imwrite(brainMaskD, \"...\\sub-013_MRMask-Brain.mha\")\n",
    "\n",
    "itk.imwrite(im1iso, \"...\\sub-013_MRA-Iso.mha\")\n",
    "itk.imwrite(im2iso, \"...\\sub-013_MRT1-Iso.mha\")\n",
    "\n",
    "itk.imwrite(brain, \"...\\sub-013_MRA-Brain.mha\")\n",
    "\n",
    "brainMath.SetInput(im2iso)\n",
    "brainMath.ReplaceValuesOutsideMaskRange( brainMaskD, 1, 1, 0 )\n",
    "itk.imwrite(brainMath.GetOutput(), \"...\\sub-013_MRT1-Brain.mha\")"
   ]
  },
  {
   "cell_type": "markdown",
   "metadata": {
    "id": "BBfvR0nEeStN"
   },
   "source": [
    "Compute Vessel Probability image from Brain MRAs"
   ]
  },
  {
   "cell_type": "code",
   "execution_count": 24,
   "metadata": {
    "id": "J7Qp7J2OdLTk"
   },
   "outputs": [],
   "source": [
    "ImageType = itk.Image[itk.F, 3]\n",
    "ReaderType = itk.ImageFileReader[ImageType]\n",
    "ResampleType = ttk.ResampleImage[ImageType]\n",
    "\n",
    "#IMPORTANT: This assumed the data has been brain-stripped and resampled into isotropic spacing!!!\n",
    "reader = ReaderType.New(FileName=\"...\\sub-013_MRA-Iso.mha\")\n",
    "reader.Update()\n",
    "im1iso = reader.GetOutput()\n",
    "\n",
    "\n",
    "#reader = ReaderType.New(FileName=\"MRT2-Iso.mha\")\n",
    "#reader.Update()\n",
    "##im3iso = reader.GetOutput()\n",
    "#reader = ReaderType.New(FileName=\"MRT2-Brain.mha\")\n",
    "#reader.Update()\n",
    "#im3Brain = reader.GetOutput()"
   ]
  },
  {
   "cell_type": "code",
   "execution_count": 25,
   "metadata": {
    "id": "5anQ7AZfd7KU"
   },
   "outputs": [],
   "source": [
    "reader = ReaderType.New(FileName=\"...\\sub-013_MRA-Brain.mha\")\n",
    "reader.Update()\n",
    "im1Brain = reader.GetOutput()\n",
    "\n",
    "reader = ReaderType.New(FileName=\"...\\sub-013_MRT1-Iso.mha\")\n",
    "reader.Update()\n",
    "im2iso = reader.GetOutput()\n",
    "reader = ReaderType.New(FileName=\"...\\sub-013_MRT1-Brain.mha\")\n",
    "reader.Update()\n",
    "im2Brain = reader.GetOutput()"
   ]
  },
  {
   "cell_type": "code",
   "execution_count": 26,
   "metadata": {
    "id": "Q_aLiwUId7Mq"
   },
   "outputs": [
    {
     "name": "stdout",
     "output_type": "stream",
     "text": [
      "[[-28.984375   -5.1953125 -11.       ]\n",
      " [ 28.7109375  -4.375     -12.       ]\n",
      " [ 21.6015625  -2.1875    -24.5      ]\n",
      " [-25.9765625  11.7578125 -35.5      ]\n",
      " [ 25.9765625  -5.46875   -35.       ]\n",
      " [ 23.515625    6.5625    -35.       ]\n",
      " [ 23.515625   12.3046875 -34.5      ]\n",
      " [-28.4375     18.046875  -38.5      ]\n",
      " [ 39.921875   -7.65625   -34.5      ]\n",
      " [-16.6796875  20.5078125 -41.5      ]]\n"
     ]
    }
   ],
   "source": [
    "imMath = ttk.ImageMath[itk.Image[itk.F,3]].New()\n",
    "imMath.SetInput(im1Brain)\n",
    "imMath.Blur(1.0)\n",
    "imBlur = imMath.GetOutput()\n",
    "imBlurArray = itk.GetArrayViewFromImage(imBlur)\n",
    "\n",
    "numSeeds = 10\n",
    "seedCoverage = 20\n",
    "seedCoord = np.zeros([numSeeds,3])\n",
    "for i in range(numSeeds):\n",
    "    seedCoord[i] = np.unravel_index(np.argmax(imBlurArray, axis=None), imBlurArray.shape)\n",
    "    indx = [int(seedCoord[i][0]),int(seedCoord[i][1]),int(seedCoord[i][2])]\n",
    "    minX = max(indx[0]-seedCoverage,0)\n",
    "    maxX = max(indx[0]+seedCoverage,imBlurArray.shape[0])\n",
    "    minY = max(indx[1]-seedCoverage,0)\n",
    "    maxY = max(indx[1]+seedCoverage,imBlurArray.shape[1])\n",
    "    minZ = max(indx[2]-seedCoverage,0)\n",
    "    maxZ = max(indx[2]+seedCoverage,imBlurArray.shape[2])\n",
    "    imBlurArray[minX:maxX,minY:maxY,minZ:maxZ]=0\n",
    "    indx.reverse()\n",
    "    seedCoord[:][i] = im1Brain.TransformIndexToPhysicalPoint(indx)\n",
    "print(seedCoord)"
   ]
  },
  {
   "cell_type": "code",
   "execution_count": 27,
   "metadata": {
    "id": "n7111Y6yd7Oz"
   },
   "outputs": [
    {
     "name": "stdout",
     "output_type": "stream",
     "text": [
      "**** Processing seed 0 : [-28.984375   -5.1953125 -11.       ]\n",
      "**** Processing seed 1 : [ 28.7109375  -4.375     -12.       ]\n",
      "**** Processing seed 2 : [ 21.6015625  -2.1875    -24.5      ]\n",
      "**** Processing seed 3 : [-25.9765625  11.7578125 -35.5      ]\n",
      "**** Processing seed 4 : [ 25.9765625  -5.46875   -35.       ]\n",
      "**** Processing seed 5 : [ 23.515625   6.5625   -35.      ]\n",
      "**** Processing seed 6 : [ 23.515625   12.3046875 -34.5      ]\n",
      "**** Processing seed 7 : [-28.4375    18.046875 -38.5     ]\n",
      "**** Processing seed 8 : [ 39.921875  -7.65625  -34.5     ]\n",
      "**** Processing seed 9 : [-16.6796875  20.5078125 -41.5      ]\n"
     ]
    }
   ],
   "source": [
    "# Manually extract a few vessels to form an image-specific training set\n",
    "vSeg = ttk.SegmentTubes[ImageType].New()\n",
    "vSeg.SetInput(im1iso)\n",
    "vSeg.SetVerbose(True)\n",
    "vSeg.SetMinRoundness(0.1)\n",
    "vSeg.SetMinCurvature(0.001)\n",
    "vSeg.SetRadiusInObjectSpace( 1 )\n",
    "for i in range(numSeeds):\n",
    "    print(\"**** Processing seed \" + str(i) + \" : \" + str(seedCoord[i]))\n",
    "    vSeg.ExtractTubeInObjectSpace( seedCoord[i], i )\n",
    "    \n",
    "tubeMaskImage = vSeg.GetTubeMaskImage()"
   ]
  },
  {
   "cell_type": "code",
   "execution_count": 28,
   "metadata": {
    "id": "ePWPOA-td7SJ"
   },
   "outputs": [],
   "source": [
    "LabelMapType = itk.Image[itk.UC,3]\n",
    "\n",
    "trMask = ttk.ComputeTrainingMask[ImageType,LabelMapType].New()\n",
    "trMask.SetInput( tubeMaskImage )\n",
    "trMask.SetGap( 3 )\n",
    "trMask.SetObjectWidth( 1 )\n",
    "trMask.SetNotObjectWidth( 1 )\n",
    "trMask.Update()\n",
    "fgMask = trMask.GetOutput()"
   ]
  },
  {
   "cell_type": "code",
   "execution_count": 29,
   "metadata": {
    "id": "lRfx-3Dvd7Uk"
   },
   "outputs": [],
   "source": [
    "enhancer = ttk.EnhanceTubesUsingDiscriminantAnalysis[ImageType,LabelMapType].New()\n",
    "enhancer.SetInput( im1iso )\n",
    "enhancer.AddInput( im2iso )\n",
    "#enhancer.AddInput( im3iso )\n",
    "enhancer.SetLabelMap( fgMask )\n",
    "enhancer.SetRidgeId( 255 )\n",
    "enhancer.SetBackgroundId( 128 )\n",
    "enhancer.SetUnknownId( 0 )\n",
    "enhancer.SetTrainClassifier(True)\n",
    "enhancer.SetUseIntensityOnly(True)\n",
    "enhancer.SetScales([0.3333,1,2.5])\n",
    "enhancer.Update()\n",
    "enhancer.ClassifyImages()"
   ]
  },
  {
   "cell_type": "code",
   "execution_count": 31,
   "metadata": {
    "id": "qcvPrNjwd7WU"
   },
   "outputs": [],
   "source": [
    "im1vess = itk.SubtractImageFilter( Input1=enhancer.GetClassProbabilityImage(0), Input2=enhancer.GetClassProbabilityImage(1))\n",
    "itk.imwrite( im1vess, \"...\\sub013_MRA-VesselEnhanced_patient.mha\", compression=True)\n",
    "\n",
    "brainMask = itk.imread( \"...\\sub-013_MRMask-Brain.mha\", itk.F )\n",
    "im1BrainVess = itk.MultiplyImageFilter(Input1 = im1vess, Input2=brainMask)\n",
    "itk.imwrite( im1BrainVess, \"...\\sub013-MRA-Brain-VesselEnhanced_patient.mha\", compression=True)"
   ]
  },
  {
   "cell_type": "markdown",
   "metadata": {
    "id": "RBCj3hqJeLEl"
   },
   "source": [
    "Segementing Vessels"
   ]
  },
  {
   "cell_type": "code",
   "execution_count": 32,
   "metadata": {
    "id": "PRlvXlAhd7Zc"
   },
   "outputs": [],
   "source": [
    "ImageType = itk.Image[itk.F, 3]\n",
    "\n",
    "im1iso = itk.imread(\"...\\sub013_MRA-VesselEnhanced_patient.mha\")\n",
    "im1BrainVess = itk.imread(\"...\\sub013-MRA-Brain-VesselEnhanced_patient.mha\")"
   ]
  },
  {
   "cell_type": "code",
   "execution_count": 33,
   "metadata": {
    "id": "VZvm03_Vd7bU"
   },
   "outputs": [],
   "source": [
    "imMath = ttk.ImageMath.New(im1BrainVess)\n",
    "imMath.MedianFilter(1)"
   ]
  },
  {
   "cell_type": "code",
   "execution_count": 34,
   "metadata": {
    "id": "50D8_iSnel7k"
   },
   "outputs": [],
   "source": [
    "imMath.Threshold(0.0000000001, 1, 1, 0)\n",
    "im1VessMask = imMath.GetOutputShort()\n"
   ]
  },
  {
   "cell_type": "code",
   "execution_count": 35,
   "metadata": {
    "id": "9RHlbA3wemDv"
   },
   "outputs": [],
   "source": [
    "ccSeg = ttk.SegmentConnectedComponents.New(im1VessMask)\n",
    "ccSeg.SetMinimumVolume(4)"
   ]
  },
  {
   "cell_type": "code",
   "execution_count": 36,
   "metadata": {
    "id": "CTPXxak7emIw"
   },
   "outputs": [],
   "source": [
    "ccSeg.Update()\n",
    "im1VessMaskCC = ccSeg.GetOutput()"
   ]
  },
  {
   "cell_type": "code",
   "execution_count": 37,
   "metadata": {
    "id": "Oz6wLFyRetGy"
   },
   "outputs": [],
   "source": [
    "imMathSS = ttk.ImageMath.New(im1VessMaskCC)\n",
    "imMath.Threshold(1,1,0,1)\n",
    "im1VessMaskInv = imMath.GetOutputFloat()"
   ]
  },
  {
   "cell_type": "code",
   "execution_count": 38,
   "metadata": {
    "id": "jw9-VeFLetJ7"
   },
   "outputs": [],
   "source": [
    "distFilter = itk.DanielssonDistanceMapImageFilter.New(im1VessMaskInv)\n",
    "distFilter.Update()\n",
    "im1SeedRadius = distFilter.GetOutput()"
   ]
  },
  {
   "cell_type": "code",
   "execution_count": 39,
   "metadata": {
    "id": "dUNWDZLAetNl"
   },
   "outputs": [],
   "source": [
    "numSeeds = 20\n",
    "vSeg = ttk.SegmentTubes.New(Input=im1iso)"
   ]
  },
  {
   "cell_type": "code",
   "execution_count": 40,
   "metadata": {
    "id": "-6hiY5Pdewtr"
   },
   "outputs": [],
   "source": [
    "vSeg.SetMinCurvature(0.0)\n",
    "vSeg.SetMinRoundness(0.0)\n"
   ]
  },
  {
   "cell_type": "code",
   "execution_count": 41,
   "metadata": {
    "id": "Qsy4JBIpewwu"
   },
   "outputs": [],
   "source": [
    "vSeg.SetMinRidgeness(0.8)\n",
    "vSeg.SetMinLevelness(0.0)\n",
    "vSeg.SetRadiusInObjectSpace( 0.75 )\n"
   ]
  },
  {
   "cell_type": "code",
   "execution_count": 42,
   "metadata": {
    "id": "ILCCcYuYewz4"
   },
   "outputs": [],
   "source": [
    "vSeg.SetBorderInIndexSpace(3)\n",
    "vSeg.SetSeedMask( im1SeedRadius )\n",
    "vSeg.SetSeedRadiusMask( im1SeedRadius )"
   ]
  },
  {
   "cell_type": "code",
   "execution_count": 43,
   "metadata": {
    "id": "vgiNk8F-e46o"
   },
   "outputs": [],
   "source": [
    "vSeg.SetOptimizeRadius(False)\n",
    "vSeg.SetUseSeedMaskAsProbabilities(True)\n"
   ]
  },
  {
   "cell_type": "code",
   "execution_count": 44,
   "metadata": {
    "id": "ECSjG8G4e4_I"
   },
   "outputs": [],
   "source": [
    "vSeg.SetSeedExtractionMinimumProbability(0.4)\n",
    "#vSeg.SetSeedMaskMaximumNumberOfPoints( numSeeds )\n",
    "vSeg.ProcessSeeds()"
   ]
  },
  {
   "cell_type": "code",
   "execution_count": 47,
   "metadata": {
    "id": "f478U-L_e8Yq"
   },
   "outputs": [],
   "source": [
    "SOWriter = itk.SpatialObjectWriter[3].New(vSeg.GetTubeGroup())\n",
    "SOWriter.SetFileName( \"...\\sub-013_MRA-Vessels_patient.tre\" )\n",
    "SOWriter.Update()"
   ]
  }
 ],
 "metadata": {
  "colab": {
   "provenance": []
  },
  "kernelspec": {
   "display_name": "Python 3 (ipykernel)",
   "language": "python",
   "name": "python3"
  },
  "language_info": {
   "codemirror_mode": {
    "name": "ipython",
    "version": 3
   },
   "file_extension": ".py",
   "mimetype": "text/x-python",
   "name": "python",
   "nbconvert_exporter": "python",
   "pygments_lexer": "ipython3",
   "version": "3.10.9"
  }
 },
 "nbformat": 4,
 "nbformat_minor": 1
}
